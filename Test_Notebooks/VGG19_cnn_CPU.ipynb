{
 "cells": [
  {
   "cell_type": "code",
   "execution_count": 1,
   "metadata": {},
   "outputs": [],
   "source": [
    "import numpy as np\n",
    "import os\n",
    "import time\n",
    "\n",
    "import tensorflow as tf\n",
    "\n",
    "\n",
    "import tensorflow.keras.applications as kapp\n",
    "from tensorflow.keras.datasets import cifar10\n",
    "\n",
    "\n",
    "# https://reposhub.com/cpp/machine-learning/plaidml-plaidml.html"
   ]
  },
  {
   "cell_type": "code",
   "execution_count": 2,
   "metadata": {
    "scrolled": false
   },
   "outputs": [],
   "source": [
    "(x_train, y_train_cats), (x_test, y_test_cats) = cifar10.load_data()\n",
    "batch_size = 8\n",
    "x_train = x_train[:batch_size]\n",
    "x_train = np.repeat(np.repeat(x_train, 7, axis=1), 7, axis=2)\n",
    "model = kapp.VGG19()\n",
    "model.compile(optimizer='sgd', loss='categorical_crossentropy',\n",
    "              metrics=['accuracy'])\n",
    "\n"
   ]
  },
  {
   "cell_type": "code",
   "execution_count": 3,
   "metadata": {},
   "outputs": [],
   "source": [
    "x_train = x_train.astype(float)"
   ]
  },
  {
   "cell_type": "code",
   "execution_count": 4,
   "metadata": {},
   "outputs": [
    {
     "name": "stdout",
     "output_type": "stream",
     "text": [
      "Running initial batch (compiling tile program)\n",
      "Timing inference...\n",
      "Ran in 48.10649013519287 seconds\n"
     ]
    }
   ],
   "source": [
    "print(\"Running initial batch (compiling tile program)\")\n",
    "y = model.predict(x=x_train, batch_size=batch_size)\n",
    "\n",
    "# Now start the clock and run 10 batches\n",
    "print(\"Timing inference...\")\n",
    "start = time.time()\n",
    "for i in range(10):\n",
    "    y = model.predict(x=x_train, batch_size=batch_size)\n",
    "print(\"Ran in {} seconds\".format(time.time() - start))\n",
    "\n",
    "# https://reposhub.com/cpp/machine-learning/plaidml-plaidml.html"
   ]
  },
  {
   "cell_type": "code",
   "execution_count": 5,
   "metadata": {},
   "outputs": [
    {
     "data": {
      "text/plain": [
       "dtype('float64')"
      ]
     },
     "execution_count": 5,
     "metadata": {},
     "output_type": "execute_result"
    }
   ],
   "source": [
    "x_train.dtype"
   ]
  },
  {
   "cell_type": "code",
   "execution_count": null,
   "metadata": {},
   "outputs": [],
   "source": []
  },
  {
   "cell_type": "code",
   "execution_count": null,
   "metadata": {},
   "outputs": [],
   "source": []
  }
 ],
 "metadata": {
  "kernelspec": {
   "display_name": "Python 3",
   "language": "python",
   "name": "python3"
  },
  "language_info": {
   "codemirror_mode": {
    "name": "ipython",
    "version": 3
   },
   "file_extension": ".py",
   "mimetype": "text/x-python",
   "name": "python",
   "nbconvert_exporter": "python",
   "pygments_lexer": "ipython3",
   "version": "3.7.4"
  }
 },
 "nbformat": 4,
 "nbformat_minor": 4
}
