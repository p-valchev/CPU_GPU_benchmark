{
 "cells": [
  {
   "cell_type": "code",
   "execution_count": 3,
   "metadata": {},
   "outputs": [],
   "source": [
    "import numpy as np\n",
    "\n",
    "from tensorflow.keras.layers import Dense\n",
    "from matplotlib import pyplot as plt\n",
    "\n",
    "from tensorflow.keras.models import Sequential\n",
    "\n",
    "\n",
    "# https://towardsdatascience.com/machine-learning-on-macos-with-an-amd-gpu-and-plaidml-55a46fe94bc0"
   ]
  },
  {
   "cell_type": "code",
   "execution_count": 4,
   "metadata": {},
   "outputs": [],
   "source": [
    "# Params\n",
    "num_samples = 100000 \n",
    "vect_len = 20\n",
    "max_int = 10\n",
    "min_int = 1\n",
    "\n",
    "# Generate dataset\n",
    "X = np.random.randint(min_int, max_int, (num_samples, vect_len))\n",
    "Y = np.sum(X, axis=1)\n",
    "\n",
    "# Get 80% of data for training\n",
    "split_idx = int(0.8 * len(Y))\n",
    "train_X = X[:split_idx, :]; test_X = X[split_idx:, :]\n",
    "train_Y = Y[:split_idx]; test_Y = Y[split_idx:]\n"
   ]
  },
  {
   "cell_type": "code",
   "execution_count": null,
   "metadata": {},
   "outputs": [],
   "source": []
  },
  {
   "cell_type": "code",
   "execution_count": 5,
   "metadata": {},
   "outputs": [],
   "source": [
    "# Make model\n",
    "model = Sequential()\n",
    "model.add(Dense(32, activation='relu', input_shape=(vect_len,)))\n",
    "model.add(Dense(1))\n",
    "model.compile('adam', 'mse', metrics=['accuracy'])"
   ]
  },
  {
   "cell_type": "code",
   "execution_count": 6,
   "metadata": {},
   "outputs": [
    {
     "name": "stdout",
     "output_type": "stream",
     "text": [
      "Model: \"sequential\"\n",
      "_________________________________________________________________\n",
      "Layer (type)                 Output Shape              Param #   \n",
      "=================================================================\n",
      "dense (Dense)                (None, 32)                672       \n",
      "_________________________________________________________________\n",
      "dense_1 (Dense)              (None, 1)                 33        \n",
      "=================================================================\n",
      "Total params: 705\n",
      "Trainable params: 705\n",
      "Non-trainable params: 0\n",
      "_________________________________________________________________\n"
     ]
    }
   ],
   "source": [
    "model.summary()"
   ]
  },
  {
   "cell_type": "code",
   "execution_count": 7,
   "metadata": {},
   "outputs": [
    {
     "name": "stdout",
     "output_type": "stream",
     "text": [
      "Train on 80000 samples, validate on 20000 samples\n",
      "Epoch 1/10\n",
      "80000/80000 [==============================] - 3s 35us/sample - loss: 1227.8851 - accuracy: 0.0000e+00 - val_loss: 11.5722 - val_accuracy: 0.0000e+00\n",
      "Epoch 2/10\n",
      "80000/80000 [==============================] - 2s 25us/sample - loss: 7.4374 - accuracy: 0.0000e+00 - val_loss: 2.4486 - val_accuracy: 0.0000e+00\n",
      "Epoch 3/10\n",
      "80000/80000 [==============================] - 2s 25us/sample - loss: 0.5627 - accuracy: 0.0000e+00 - val_loss: 0.0583 - val_accuracy: 0.0000e+00\n",
      "Epoch 4/10\n",
      "80000/80000 [==============================] - 2s 26us/sample - loss: 0.0485 - accuracy: 0.0000e+00 - val_loss: 0.0396 - val_accuracy: 0.0000e+00\n",
      "Epoch 5/10\n",
      "80000/80000 [==============================] - 2s 26us/sample - loss: 0.0392 - accuracy: 0.0000e+00 - val_loss: 0.0338 - val_accuracy: 0.0000e+00\n",
      "Epoch 6/10\n",
      "80000/80000 [==============================] - 2s 29us/sample - loss: 0.0339 - accuracy: 0.0000e+00 - val_loss: 0.0292 - val_accuracy: 0.0000e+00\n",
      "Epoch 7/10\n",
      "80000/80000 [==============================] - 2s 26us/sample - loss: 0.0291 - accuracy: 0.0000e+00 - val_loss: 0.0251 - val_accuracy: 0.0000e+00\n",
      "Epoch 8/10\n",
      "80000/80000 [==============================] - 2s 26us/sample - loss: 0.0246 - accuracy: 0.0000e+00 - val_loss: 0.0211 - val_accuracy: 0.0000e+00\n",
      "Epoch 9/10\n",
      "80000/80000 [==============================] - 2s 26us/sample - loss: 0.0202 - accuracy: 0.0000e+00 - val_loss: 0.0171 - val_accuracy: 0.0000e+00\n",
      "Epoch 10/10\n",
      "80000/80000 [==============================] - 3s 34us/sample - loss: 0.0161 - accuracy: 0.0000e+00 - val_loss: 0.0134 - val_accuracy: 0.0000e+00\n"
     ]
    }
   ],
   "source": [
    "history = model.fit(train_X, train_Y, validation_data=(test_X, test_Y), \\\n",
    "                    epochs=10, batch_size=128)"
   ]
  },
  {
   "cell_type": "code",
   "execution_count": 6,
   "metadata": {},
   "outputs": [
    {
     "data": {
      "image/png": "[encoded data removed]",
      "text/plain": [
       "<Figure size 432x288 with 1 Axes>"
      ]
     },
     "metadata": {
      "needs_background": "light"
     },
     "output_type": "display_data"
    }
   ],
   "source": [
    "# summarize history\n",
    "plt.plot(history.history['loss'])\n",
    "plt.plot(history.history['val_loss'])\n",
    "plt.title('model loss')\n",
    "plt.ylabel('loss')\n",
    "plt.xlabel('epoch')\n",
    "plt.legend(['train', 'test'], loc='upper left')\n",
    "plt.show()\n"
   ]
  },
  {
   "cell_type": "code",
   "execution_count": null,
   "metadata": {},
   "outputs": [],
   "source": []
  },
  {
   "cell_type": "code",
   "execution_count": null,
   "metadata": {},
   "outputs": [],
   "source": []
  }
 ],
 "metadata": {
  "kernelspec": {
   "display_name": "Python 3",
   "language": "python",
   "name": "python3"
  },
  "language_info": {
   "codemirror_mode": {
    "name": "ipython",
    "version": 3
   },
   "file_extension": ".py",
   "mimetype": "text/x-python",
   "name": "python",
   "nbconvert_exporter": "python",
   "pygments_lexer": "ipython3",
   "version": "3.7.4"
  }
 },
 "nbformat": 4,
 "nbformat_minor": 4
}
