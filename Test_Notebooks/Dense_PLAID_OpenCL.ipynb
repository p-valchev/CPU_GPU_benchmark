{
 "cells": [
  {
   "cell_type": "code",
   "execution_count": 1,
   "metadata": {},
   "outputs": [
    {
     "name": "stderr",
     "output_type": "stream",
     "text": [
      "Using plaidml.keras.backend backend.\n"
     ]
    }
   ],
   "source": [
    "import numpy as np\n",
    "from os import environ\n",
    "environ[\"KERAS_BACKEND\"] = \"plaidml.keras.backend\"\n",
    "import keras\n",
    "\n",
    "\n",
    "from keras.layers import Dense\n",
    "from matplotlib import pyplot as plt\n",
    "\n",
    "\n",
    "\n",
    "\n",
    "# https://towardsdatascience.com/machine-learning-on-macos-with-an-amd-gpu-and-plaidml-55a46fe94bc0"
   ]
  },
  {
   "cell_type": "code",
   "execution_count": 2,
   "metadata": {},
   "outputs": [],
   "source": [
    "# Params\n",
    "num_samples = 100000 \n",
    "vect_len = 20\n",
    "max_int = 10\n",
    "min_int = 1\n",
    "\n",
    "# Generate dataset\n",
    "X = np.random.randint(min_int, max_int, (num_samples, vect_len))\n",
    "Y = np.sum(X, axis=1)\n",
    "\n",
    "# Get 80% of data for training\n",
    "split_idx = int(0.8 * len(Y))\n",
    "train_X = X[:split_idx, :]; test_X = X[split_idx:, :]\n",
    "train_Y = Y[:split_idx]; test_Y = Y[split_idx:]\n"
   ]
  },
  {
   "cell_type": "code",
   "execution_count": null,
   "metadata": {},
   "outputs": [],
   "source": []
  },
  {
   "cell_type": "code",
   "execution_count": 3,
   "metadata": {},
   "outputs": [
    {
     "name": "stderr",
     "output_type": "stream",
     "text": [
      "INFO:plaidml:Opening device \"opencl_intel_iris(tm)_graphics_6100.0\"\n"
     ]
    }
   ],
   "source": [
    "# Make model\n",
    "model = keras.models.Sequential()\n",
    "model.add(keras.layers.Dense(32, activation='relu', input_shape=(vect_len,)))\n",
    "model.add(keras.layers.Dense(1))\n",
    "model.compile('adam', 'mse', metrics=['accuracy'])"
   ]
  },
  {
   "cell_type": "code",
   "execution_count": 4,
   "metadata": {},
   "outputs": [
    {
     "name": "stdout",
     "output_type": "stream",
     "text": [
      "_________________________________________________________________\n",
      "Layer (type)                 Output Shape              Param #   \n",
      "=================================================================\n",
      "dense_1 (Dense)              (None, 32)                672       \n",
      "_________________________________________________________________\n",
      "dense_2 (Dense)              (None, 1)                 33        \n",
      "=================================================================\n",
      "Total params: 705\n",
      "Trainable params: 705\n",
      "Non-trainable params: 0\n",
      "_________________________________________________________________\n"
     ]
    }
   ],
   "source": [
    "model.summary()"
   ]
  },
  {
   "cell_type": "code",
   "execution_count": 5,
   "metadata": {},
   "outputs": [
    {
     "name": "stdout",
     "output_type": "stream",
     "text": [
      "Train on 80000 samples, validate on 20000 samples\n",
      "Epoch 1/10\n",
      "80000/80000 [==============================] - 5s 68us/step - loss: -4163235.4365 - acc: 0.0000e+00 - val_loss: -21568393.4784 - val_acc: 0.0000e+00\n",
      "Epoch 2/10\n",
      "80000/80000 [==============================] - 5s 64us/step - loss: -133925588.1600 - acc: 0.0000e+00 - val_loss: -337518959.5136 - val_acc: 0.0000e+00\n",
      "Epoch 3/10\n",
      "80000/80000 [==============================] - 5s 66us/step - loss: -820425152.2048 - acc: 0.0000e+00 - val_loss: -1490737342.2592 - val_acc: 0.0000e+00\n",
      "Epoch 4/10\n",
      "80000/80000 [==============================] - 5s 64us/step - loss: -2633445061.2224 - acc: 0.0000e+00 - val_loss: -4053029790.5152 - val_acc: 0.0000e+00\n",
      "Epoch 5/10\n",
      "80000/80000 [==============================] - 5s 68us/step - loss: -6132822425.1904 - acc: 0.0000e+00 - val_loss: -8570433131.3152 - val_acc: 0.0000e+00\n",
      "Epoch 6/10\n",
      "80000/80000 [==============================] - 5s 65us/step - loss: -11852564319.4368 - acc: 0.0000e+00 - val_loss: -15565114667.8272 - val_acc: 0.0000e+00\n",
      "Epoch 7/10\n",
      "80000/80000 [==============================] - 5s 65us/step - loss: -20312908619.7760 - acc: 0.0000e+00 - val_loss: -25557633033.8304 - val_acc: 0.0000e+00\n",
      "Epoch 8/10\n",
      "80000/80000 [==============================] - 5s 67us/step - loss: -32038282267.8528 - acc: 0.0000e+00 - val_loss: -39072861126.6560 - val_acc: 0.0000e+00\n",
      "Epoch 9/10\n",
      "80000/80000 [==============================] - 5s 66us/step - loss: -47560382657.3312 - acc: 0.0000e+00 - val_loss: -56654153829.5808 - val_acc: 0.0000e+00\n",
      "Epoch 10/10\n",
      "80000/80000 [==============================] - 6s 71us/step - loss: -67442427664.7936 - acc: 0.0000e+00 - val_loss: -78877894796.9024 - val_acc: 0.0000e+00\n"
     ]
    }
   ],
   "source": [
    "history = model.fit(train_X, train_Y, validation_data=(test_X, test_Y), \\\n",
    "                    epochs=10, batch_size=128)"
   ]
  },
  {
   "cell_type": "code",
   "execution_count": 6,
   "metadata": {},
   "outputs": [
    {
     "data": {
      "image/png": "[encoded data removed]",
      "text/plain": [
       "<Figure size 432x288 with 1 Axes>"
      ]
     },
     "metadata": {
      "needs_background": "light"
     },
     "output_type": "display_data"
    }
   ],
   "source": [
    "# summarize history\n",
    "plt.plot(history.history['loss'])\n",
    "plt.plot(history.history['val_loss'])\n",
    "plt.title('model loss')\n",
    "plt.ylabel('loss')\n",
    "plt.xlabel('epoch')\n",
    "plt.legend(['train', 'test'], loc='upper left')\n",
    "plt.show()\n"
   ]
  },
  {
   "cell_type": "code",
   "execution_count": null,
   "metadata": {},
   "outputs": [],
   "source": []
  },
  {
   "cell_type": "code",
   "execution_count": null,
   "metadata": {},
   "outputs": [],
   "source": []
  }
 ],
 "metadata": {
  "kernelspec": {
   "display_name": "Python 3",
   "language": "python",
   "name": "python3"
  },
  "language_info": {
   "codemirror_mode": {
    "name": "ipython",
    "version": 3
   },
   "file_extension": ".py",
   "mimetype": "text/x-python",
   "name": "python",
   "nbconvert_exporter": "python",
   "pygments_lexer": "ipython3",
   "version": "3.7.4"
  }
 },
 "nbformat": 4,
 "nbformat_minor": 4
}
